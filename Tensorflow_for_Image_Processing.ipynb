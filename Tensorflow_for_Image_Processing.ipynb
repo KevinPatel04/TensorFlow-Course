{
  "nbformat": 4,
  "nbformat_minor": 0,
  "metadata": {
    "colab": {
      "name": "Tensorflow for Image Processing.ipynb",
      "provenance": [],
      "collapsed_sections": [],
      "authorship_tag": "ABX9TyPX1Zlik8ukaeod5BeO+VwO",
      "include_colab_link": true
    },
    "kernelspec": {
      "name": "python3",
      "display_name": "Python 3"
    }
  },
  "cells": [
    {
      "cell_type": "markdown",
      "metadata": {
        "id": "view-in-github",
        "colab_type": "text"
      },
      "source": [
        "<a href=\"https://colab.research.google.com/github/KevinPatel04/TensorFlow-Course/blob/master/Tensorflow_for_Image_Processing.ipynb\" target=\"_parent\"><img src=\"https://colab.research.google.com/assets/colab-badge.svg\" alt=\"Open In Colab\"/></a>"
      ]
    },
    {
      "cell_type": "markdown",
      "metadata": {
        "id": "jYHcCQpkYoqr",
        "colab_type": "text"
      },
      "source": [
        "**Step 1.** Import Libraries\n"
      ]
    },
    {
      "cell_type": "code",
      "metadata": {
        "id": "CsynwKIwYGsH",
        "colab_type": "code",
        "colab": {
          "base_uri": "https://localhost:8080/",
          "height": 73
        },
        "outputId": "a91aa00d-f421-4c35-a906-249d82cc8505"
      },
      "source": [
        "# import required libraries\n",
        "import numpy\n",
        "import matplotlib.pyplot as plt\n",
        "import tensorflow as tf\n",
        "from tensorflow import keras\n",
        "import seaborn as sn\n",
        "import pandas as pd\n",
        "from sklearn.metrics import confusion_matrix"
      ],
      "execution_count": 1,
      "outputs": [
        {
          "output_type": "stream",
          "text": [
            "/usr/local/lib/python3.6/dist-packages/statsmodels/tools/_testing.py:19: FutureWarning: pandas.util.testing is deprecated. Use the functions in the public API at pandas.testing instead.\n",
            "  import pandas.util.testing as tm\n"
          ],
          "name": "stderr"
        }
      ]
    },
    {
      "cell_type": "markdown",
      "metadata": {
        "id": "4YxcglYDYgo4",
        "colab_type": "text"
      },
      "source": [
        "**Step 2.** Import MNIST Data set"
      ]
    },
    {
      "cell_type": "markdown",
      "metadata": {
        "id": "rdEwkY-EeEiU",
        "colab_type": "text"
      },
      "source": [
        "[Fashion MNIST Dataset](https://keras.io/api/datasets/fashion_mnist/)"
      ]
    },
    {
      "cell_type": "code",
      "metadata": {
        "id": "KqneaqlWYfcd",
        "colab_type": "code",
        "colab": {}
      },
      "source": [
        "fashion_mnist = keras.datasets.fashion_mnist"
      ],
      "execution_count": 0,
      "outputs": []
    },
    {
      "cell_type": "code",
      "metadata": {
        "id": "CS9y1i_3YzBR",
        "colab_type": "code",
        "colab": {}
      },
      "source": [
        "(train_images, train_labels), (test_images, test_labels) = fashion_mnist.load_data()"
      ],
      "execution_count": 0,
      "outputs": []
    },
    {
      "cell_type": "markdown",
      "metadata": {
        "id": "ctWFbNJCYytr",
        "colab_type": "text"
      },
      "source": [
        "**Step 3.** Plot the Data from Dataset"
      ]
    },
    {
      "cell_type": "code",
      "metadata": {
        "id": "CDGowiPiY63T",
        "colab_type": "code",
        "colab": {
          "base_uri": "https://localhost:8080/",
          "height": 265
        },
        "outputId": "f48f1593-5784-4523-cd98-9c22bc1fb014"
      },
      "source": [
        "plt.figure()\n",
        "plt.imshow(train_images[0])\n",
        "plt.colorbar()\n",
        "plt.grid(False)\n",
        "plt.show()"
      ],
      "execution_count": 4,
      "outputs": [
        {
          "output_type": "display_data",
          "data": {
            "image/png": "[encoded data removed]",
            "text/plain": [
              "<Figure size 432x288 with 2 Axes>"
            ]
          },
          "metadata": {
            "tags": [],
            "needs_background": "light"
          }
        }
      ]
    },
    {
      "cell_type": "markdown",
      "metadata": {
        "id": "i2bNM5VqZK2q",
        "colab_type": "text"
      },
      "source": [
        "**Step 4.** Pre-processing of Data"
      ]
    },
    {
      "cell_type": "code",
      "metadata": {
        "id": "I0U5RuAtZOy4",
        "colab_type": "code",
        "colab": {}
      },
      "source": [
        "# normalize the images from dataset\n",
        "train_images = train_images / 255.0\n",
        "test_images = test_images / 255.0"
      ],
      "execution_count": 0,
      "outputs": []
    },
    {
      "cell_type": "markdown",
      "metadata": {
        "id": "oCcYXnwkZmg_",
        "colab_type": "text"
      },
      "source": [
        "**Step 5.** Model Generation"
      ]
    },
    {
      "cell_type": "code",
      "metadata": {
        "id": "gT5zu9c6ZqFy",
        "colab_type": "code",
        "colab": {}
      },
      "source": [
        "model = keras.Sequential([ \n",
        "                          keras.layers.Flatten(input_shape=(28,28)),\n",
        "                          keras.layers.Dense(128, activation=tf.nn.relu),\n",
        "                          keras.layers.Dense(10, activation=tf.nn.softmax)\n",
        "                          ])"
      ],
      "execution_count": 0,
      "outputs": []
    },
    {
      "cell_type": "markdown",
      "metadata": {
        "id": "EBOxgqcQaYU2",
        "colab_type": "text"
      },
      "source": [
        "**Step 6.** Verify the Model Structure\n"
      ]
    },
    {
      "cell_type": "code",
      "metadata": {
        "id": "mJ4vekOTaXes",
        "colab_type": "code",
        "colab": {}
      },
      "source": [
        "model.compile( \n",
        "              optimizer = 'adam',\n",
        "              loss = 'sparse_categorical_crossentropy', \n",
        "              metrics = ['accuracy']\n",
        "              )"
      ],
      "execution_count": 0,
      "outputs": []
    },
    {
      "cell_type": "code",
      "metadata": {
        "id": "24QBSIjpaiFS",
        "colab_type": "code",
        "colab": {
          "base_uri": "https://localhost:8080/",
          "height": 269
        },
        "outputId": "8d55d6ad-6171-4feb-c65d-9642bd310b77"
      },
      "source": [
        "model.summary()"
      ],
      "execution_count": 8,
      "outputs": [
        {
          "output_type": "stream",
          "text": [
            "Model: \"sequential\"\n",
            "_________________________________________________________________\n",
            "Layer (type)                 Output Shape              Param #   \n",
            "=================================================================\n",
            "flatten (Flatten)            (None, 784)               0         \n",
            "_________________________________________________________________\n",
            "dense (Dense)                (None, 128)               100480    \n",
            "_________________________________________________________________\n",
            "dense_1 (Dense)              (None, 10)                1290      \n",
            "=================================================================\n",
            "Total params: 101,770\n",
            "Trainable params: 101,770\n",
            "Non-trainable params: 0\n",
            "_________________________________________________________________\n"
          ],
          "name": "stdout"
        }
      ]
    },
    {
      "cell_type": "markdown",
      "metadata": {
        "id": "iseVvtfkaPrg",
        "colab_type": "text"
      },
      "source": [
        "**Step 7.** Train the Model"
      ]
    },
    {
      "cell_type": "code",
      "metadata": {
        "id": "14L0FhkDaPY2",
        "colab_type": "code",
        "colab": {
          "base_uri": "https://localhost:8080/",
          "height": 215
        },
        "outputId": "1e1879df-387d-4879-ab5e-d6761f84125d"
      },
      "source": [
        "model.fit(\n",
        "          train_images,\n",
        "          train_labels,\n",
        "          epochs=5\n",
        "          )"
      ],
      "execution_count": 9,
      "outputs": [
        {
          "output_type": "stream",
          "text": [
            "Epoch 1/5\n",
            "1875/1875 [==============================] - 4s 2ms/step - loss: 0.4988 - accuracy: 0.8265\n",
            "Epoch 2/5\n",
            "1875/1875 [==============================] - 4s 2ms/step - loss: 0.3754 - accuracy: 0.8648\n",
            "Epoch 3/5\n",
            "1875/1875 [==============================] - 4s 2ms/step - loss: 0.3398 - accuracy: 0.8765\n",
            "Epoch 4/5\n",
            "1875/1875 [==============================] - 4s 2ms/step - loss: 0.3135 - accuracy: 0.8858\n",
            "Epoch 5/5\n",
            "1875/1875 [==============================] - 4s 2ms/step - loss: 0.2964 - accuracy: 0.8916\n"
          ],
          "name": "stdout"
        },
        {
          "output_type": "execute_result",
          "data": {
            "text/plain": [
              "<tensorflow.python.keras.callbacks.History at 0x7f71032d26d8>"
            ]
          },
          "metadata": {
            "tags": []
          },
          "execution_count": 9
        }
      ]
    },
    {
      "cell_type": "markdown",
      "metadata": {
        "id": "pDtQjnv7bVZd",
        "colab_type": "text"
      },
      "source": [
        "**Step 8.** Evaluate the Model"
      ]
    },
    {
      "cell_type": "code",
      "metadata": {
        "id": "rUsXzOgubVIw",
        "colab_type": "code",
        "colab": {
          "base_uri": "https://localhost:8080/",
          "height": 53
        },
        "outputId": "86ef8c82-9bec-46cd-e5d3-e4a09e3de4fc"
      },
      "source": [
        "test_loss, test_acc = model.evaluate(test_images, test_labels)\n",
        "print(\"Accuracy: \",test_acc)"
      ],
      "execution_count": 10,
      "outputs": [
        {
          "output_type": "stream",
          "text": [
            "313/313 [==============================] - 0s 1ms/step - loss: 0.3428 - accuracy: 0.8770\n",
            "Accuracy:  0.8769999742507935\n"
          ],
          "name": "stdout"
        }
      ]
    },
    {
      "cell_type": "code",
      "metadata": {
        "id": "4FBXM2CRbuHb",
        "colab_type": "code",
        "colab": {
          "base_uri": "https://localhost:8080/",
          "height": 71
        },
        "outputId": "7f195bc0-809c-4f5f-c8b9-948eb0a20c21"
      },
      "source": [
        "predictions = model.predict(test_images)\n",
        "predictions[0]"
      ],
      "execution_count": 11,
      "outputs": [
        {
          "output_type": "execute_result",
          "data": {
            "text/plain": [
              "array([1.2362760e-06, 4.3467492e-09, 6.2684171e-07, 1.0286460e-05,\n",
              "       1.9202888e-07, 1.9290417e-02, 1.2337256e-05, 9.7999342e-02,\n",
              "       5.9154310e-05, 8.8262647e-01], dtype=float32)"
            ]
          },
          "metadata": {
            "tags": []
          },
          "execution_count": 11
        }
      ]
    },
    {
      "cell_type": "code",
      "metadata": {
        "id": "0Eqqh5D1b2Mj",
        "colab_type": "code",
        "colab": {
          "base_uri": "https://localhost:8080/",
          "height": 35
        },
        "outputId": "12e0b72d-2c93-43e3-8e50-2114af1790b1"
      },
      "source": [
        "# predicted label\n",
        "numpy.argmax(predictions[0])"
      ],
      "execution_count": 12,
      "outputs": [
        {
          "output_type": "execute_result",
          "data": {
            "text/plain": [
              "9"
            ]
          },
          "metadata": {
            "tags": []
          },
          "execution_count": 12
        }
      ]
    },
    {
      "cell_type": "code",
      "metadata": {
        "id": "vdXJ54n6b6L7",
        "colab_type": "code",
        "colab": {
          "base_uri": "https://localhost:8080/",
          "height": 35
        },
        "outputId": "ccbc85cd-4257-48f3-928a-ae352e606174"
      },
      "source": [
        "# actual label\n",
        "test_labels[0]"
      ],
      "execution_count": 13,
      "outputs": [
        {
          "output_type": "execute_result",
          "data": {
            "text/plain": [
              "9"
            ]
          },
          "metadata": {
            "tags": []
          },
          "execution_count": 13
        }
      ]
    },
    {
      "cell_type": "code",
      "metadata": {
        "id": "NWmBgocZgxC8",
        "colab_type": "code",
        "colab": {
          "base_uri": "https://localhost:8080/",
          "height": 35
        },
        "outputId": "8171fd92-be8a-4111-9370-6684372ca4b8"
      },
      "source": [
        "numpy.argmax(predictions, axis=1)"
      ],
      "execution_count": 14,
      "outputs": [
        {
          "output_type": "execute_result",
          "data": {
            "text/plain": [
              "array([9, 2, 1, ..., 8, 1, 5])"
            ]
          },
          "metadata": {
            "tags": []
          },
          "execution_count": 14
        }
      ]
    },
    {
      "cell_type": "code",
      "metadata": {
        "id": "rW45QNDwgzU3",
        "colab_type": "code",
        "colab": {
          "base_uri": "https://localhost:8080/",
          "height": 35
        },
        "outputId": "c4ef00c7-1de2-4547-9120-397dddbc1f93"
      },
      "source": [
        "test_labels"
      ],
      "execution_count": 15,
      "outputs": [
        {
          "output_type": "execute_result",
          "data": {
            "text/plain": [
              "array([9, 2, 1, ..., 8, 1, 5], dtype=uint8)"
            ]
          },
          "metadata": {
            "tags": []
          },
          "execution_count": 15
        }
      ]
    },
    {
      "cell_type": "code",
      "metadata": {
        "id": "gTRW5iygc6Rx",
        "colab_type": "code",
        "colab": {
          "base_uri": "https://localhost:8080/",
          "height": 621
        },
        "outputId": "602a89f8-dc74-42cf-d10b-80923ea952ca"
      },
      "source": [
        "labels = [\"T-shirt/top\", \"Trouser\",\t\"Pullover\",\t\"Dress\", \"Coat\", \"Sandal\", \"Shirt\", \"Sneaker\", \"Bag\", \"Ankle boot\"]\n",
        "cm = confusion_matrix(test_labels, numpy.argmax(predictions, axis=1))\n",
        "fig = plt.figure(figsize=(13, 10))\n",
        "df_cm = pd.DataFrame(cm, labels, labels)\n",
        "plt.title('Confusion matrix of the Classifier')\n",
        "sn.set(font_scale=1.4) # for label size\n",
        "sn.heatmap(df_cm, annot=True, fmt='d', annot_kws={\"size\": 13}) # font size\n",
        "plt.xlabel('Predicted')\n",
        "plt.ylabel('True')\n",
        "plt.show()"
      ],
      "execution_count": 16,
      "outputs": [
        {
          "output_type": "display_data",
          "data": {
            "image/png": "[encoded data removed]",
            "text/plain": [
              "<Figure size 936x720 with 2 Axes>"
            ]
          },
          "metadata": {
            "tags": [],
            "needs_background": "light"
          }
        }
      ]
    }
  ]
}